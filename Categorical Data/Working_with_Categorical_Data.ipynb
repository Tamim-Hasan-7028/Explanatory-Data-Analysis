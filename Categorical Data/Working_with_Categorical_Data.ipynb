{
  "nbformat": 4,
  "nbformat_minor": 0,
  "metadata": {
    "colab": {
      "provenance": []
    },
    "kernelspec": {
      "name": "python3",
      "display_name": "Python 3"
    },
    "language_info": {
      "name": "python"
    }
  },
  "cells": [
    {
      "cell_type": "code",
      "execution_count": 43,
      "metadata": {
        "id": "yZztb2gO1XI0"
      },
      "outputs": [],
      "source": [
        "import pandas as pd\n",
        "import numpy as np"
      ]
    },
    {
      "cell_type": "code",
      "source": [
        "dogs=pd.read_csv('/content/drive/MyDrive/DataCamp/Python Track/Categorical Data/ShelterDogs1.csv')\n",
        "dogs.head()"
      ],
      "metadata": {
        "colab": {
          "base_uri": "https://localhost:8080/",
          "height": 409
        },
        "id": "WC0lPC10A_tK",
        "outputId": "ca9afc62-ae25-48c3-e179-f784c89ba8e1"
      },
      "execution_count": 2,
      "outputs": [
        {
          "output_type": "execute_result",
          "data": {
            "text/plain": [
              "     ID             name   age   sex                           breed  \\\n",
              "0  1664             Nikó  0.67  male  Labrador Retriever, Poodle Mix   \n",
              "1  1652  Dabasi Baltazár  3.33  male                        Komondor   \n",
              "2   136            Colin  8.50  male                   Scotch Collie   \n",
              "3  1169           Borzas  2.58  male                     Unknown Mix   \n",
              "4  3362              Örs  7.08  male                        Puli Mix   \n",
              "\n",
              "  date_found adoptable_from    posted     color  coat    size neutered  \\\n",
              "0   11/18/19       11/19/19   7/15/19     white  long  medium       no   \n",
              "1    6/29/19        7/15/19  07-03-19     white  long   large      yes   \n",
              "2   05-11-19       05-11-19   5/25/19  tricolor  long  medium      yes   \n",
              "3   12-12-18       12-12-18  05-02-19      gray  long  medium      NaN   \n",
              "4   11/22/16       11/22/16   2/24/19     black  long  medium      yes   \n",
              "\n",
              "  housebroken likes_people likes_children get_along_males get_along_females  \\\n",
              "0         NaN          yes          maybe             yes               yes   \n",
              "1         NaN          yes          maybe              no                no   \n",
              "2         NaN          yes          maybe             yes               yes   \n",
              "3         yes          yes          maybe             yes               yes   \n",
              "4         NaN          yes          maybe             yes               yes   \n",
              "\n",
              "  get_along_cats               keep_in  \n",
              "0            NaN                  flat  \n",
              "1             no  both flat and garden  \n",
              "2             no  both flat and garden  \n",
              "3            NaN                  flat  \n",
              "4            NaN                garden  "
            ],
            "text/html": [
              "\n",
              "  <div id=\"df-8935559f-bc20-4b1c-a21d-d8aca6799ebe\">\n",
              "    <div class=\"colab-df-container\">\n",
              "      <div>\n",
              "<style scoped>\n",
              "    .dataframe tbody tr th:only-of-type {\n",
              "        vertical-align: middle;\n",
              "    }\n",
              "\n",
              "    .dataframe tbody tr th {\n",
              "        vertical-align: top;\n",
              "    }\n",
              "\n",
              "    .dataframe thead th {\n",
              "        text-align: right;\n",
              "    }\n",
              "</style>\n",
              "<table border=\"1\" class=\"dataframe\">\n",
              "  <thead>\n",
              "    <tr style=\"text-align: right;\">\n",
              "      <th></th>\n",
              "      <th>ID</th>\n",
              "      <th>name</th>\n",
              "      <th>age</th>\n",
              "      <th>sex</th>\n",
              "      <th>breed</th>\n",
              "      <th>date_found</th>\n",
              "      <th>adoptable_from</th>\n",
              "      <th>posted</th>\n",
              "      <th>color</th>\n",
              "      <th>coat</th>\n",
              "      <th>size</th>\n",
              "      <th>neutered</th>\n",
              "      <th>housebroken</th>\n",
              "      <th>likes_people</th>\n",
              "      <th>likes_children</th>\n",
              "      <th>get_along_males</th>\n",
              "      <th>get_along_females</th>\n",
              "      <th>get_along_cats</th>\n",
              "      <th>keep_in</th>\n",
              "    </tr>\n",
              "  </thead>\n",
              "  <tbody>\n",
              "    <tr>\n",
              "      <th>0</th>\n",
              "      <td>1664</td>\n",
              "      <td>Nikó</td>\n",
              "      <td>0.67</td>\n",
              "      <td>male</td>\n",
              "      <td>Labrador Retriever, Poodle Mix</td>\n",
              "      <td>11/18/19</td>\n",
              "      <td>11/19/19</td>\n",
              "      <td>7/15/19</td>\n",
              "      <td>white</td>\n",
              "      <td>long</td>\n",
              "      <td>medium</td>\n",
              "      <td>no</td>\n",
              "      <td>NaN</td>\n",
              "      <td>yes</td>\n",
              "      <td>maybe</td>\n",
              "      <td>yes</td>\n",
              "      <td>yes</td>\n",
              "      <td>NaN</td>\n",
              "      <td>flat</td>\n",
              "    </tr>\n",
              "    <tr>\n",
              "      <th>1</th>\n",
              "      <td>1652</td>\n",
              "      <td>Dabasi Baltazár</td>\n",
              "      <td>3.33</td>\n",
              "      <td>male</td>\n",
              "      <td>Komondor</td>\n",
              "      <td>6/29/19</td>\n",
              "      <td>7/15/19</td>\n",
              "      <td>07-03-19</td>\n",
              "      <td>white</td>\n",
              "      <td>long</td>\n",
              "      <td>large</td>\n",
              "      <td>yes</td>\n",
              "      <td>NaN</td>\n",
              "      <td>yes</td>\n",
              "      <td>maybe</td>\n",
              "      <td>no</td>\n",
              "      <td>no</td>\n",
              "      <td>no</td>\n",
              "      <td>both flat and garden</td>\n",
              "    </tr>\n",
              "    <tr>\n",
              "      <th>2</th>\n",
              "      <td>136</td>\n",
              "      <td>Colin</td>\n",
              "      <td>8.50</td>\n",
              "      <td>male</td>\n",
              "      <td>Scotch Collie</td>\n",
              "      <td>05-11-19</td>\n",
              "      <td>05-11-19</td>\n",
              "      <td>5/25/19</td>\n",
              "      <td>tricolor</td>\n",
              "      <td>long</td>\n",
              "      <td>medium</td>\n",
              "      <td>yes</td>\n",
              "      <td>NaN</td>\n",
              "      <td>yes</td>\n",
              "      <td>maybe</td>\n",
              "      <td>yes</td>\n",
              "      <td>yes</td>\n",
              "      <td>no</td>\n",
              "      <td>both flat and garden</td>\n",
              "    </tr>\n",
              "    <tr>\n",
              "      <th>3</th>\n",
              "      <td>1169</td>\n",
              "      <td>Borzas</td>\n",
              "      <td>2.58</td>\n",
              "      <td>male</td>\n",
              "      <td>Unknown Mix</td>\n",
              "      <td>12-12-18</td>\n",
              "      <td>12-12-18</td>\n",
              "      <td>05-02-19</td>\n",
              "      <td>gray</td>\n",
              "      <td>long</td>\n",
              "      <td>medium</td>\n",
              "      <td>NaN</td>\n",
              "      <td>yes</td>\n",
              "      <td>yes</td>\n",
              "      <td>maybe</td>\n",
              "      <td>yes</td>\n",
              "      <td>yes</td>\n",
              "      <td>NaN</td>\n",
              "      <td>flat</td>\n",
              "    </tr>\n",
              "    <tr>\n",
              "      <th>4</th>\n",
              "      <td>3362</td>\n",
              "      <td>Örs</td>\n",
              "      <td>7.08</td>\n",
              "      <td>male</td>\n",
              "      <td>Puli Mix</td>\n",
              "      <td>11/22/16</td>\n",
              "      <td>11/22/16</td>\n",
              "      <td>2/24/19</td>\n",
              "      <td>black</td>\n",
              "      <td>long</td>\n",
              "      <td>medium</td>\n",
              "      <td>yes</td>\n",
              "      <td>NaN</td>\n",
              "      <td>yes</td>\n",
              "      <td>maybe</td>\n",
              "      <td>yes</td>\n",
              "      <td>yes</td>\n",
              "      <td>NaN</td>\n",
              "      <td>garden</td>\n",
              "    </tr>\n",
              "  </tbody>\n",
              "</table>\n",
              "</div>\n",
              "      <button class=\"colab-df-convert\" onclick=\"convertToInteractive('df-8935559f-bc20-4b1c-a21d-d8aca6799ebe')\"\n",
              "              title=\"Convert this dataframe to an interactive table.\"\n",
              "              style=\"display:none;\">\n",
              "        \n",
              "  <svg xmlns=\"http://www.w3.org/2000/svg\" height=\"24px\"viewBox=\"0 0 24 24\"\n",
              "       width=\"24px\">\n",
              "    <path d=\"M0 0h24v24H0V0z\" fill=\"none\"/>\n",
              "    <path d=\"M18.56 5.44l.94 2.06.94-2.06 2.06-.94-2.06-.94-.94-2.06-.94 2.06-2.06.94zm-11 1L8.5 8.5l.94-2.06 2.06-.94-2.06-.94L8.5 2.5l-.94 2.06-2.06.94zm10 10l.94 2.06.94-2.06 2.06-.94-2.06-.94-.94-2.06-.94 2.06-2.06.94z\"/><path d=\"M17.41 7.96l-1.37-1.37c-.4-.4-.92-.59-1.43-.59-.52 0-1.04.2-1.43.59L10.3 9.45l-7.72 7.72c-.78.78-.78 2.05 0 2.83L4 21.41c.39.39.9.59 1.41.59.51 0 1.02-.2 1.41-.59l7.78-7.78 2.81-2.81c.8-.78.8-2.07 0-2.86zM5.41 20L4 18.59l7.72-7.72 1.47 1.35L5.41 20z\"/>\n",
              "  </svg>\n",
              "      </button>\n",
              "      \n",
              "  <style>\n",
              "    .colab-df-container {\n",
              "      display:flex;\n",
              "      flex-wrap:wrap;\n",
              "      gap: 12px;\n",
              "    }\n",
              "\n",
              "    .colab-df-convert {\n",
              "      background-color: #E8F0FE;\n",
              "      border: none;\n",
              "      border-radius: 50%;\n",
              "      cursor: pointer;\n",
              "      display: none;\n",
              "      fill: #1967D2;\n",
              "      height: 32px;\n",
              "      padding: 0 0 0 0;\n",
              "      width: 32px;\n",
              "    }\n",
              "\n",
              "    .colab-df-convert:hover {\n",
              "      background-color: #E2EBFA;\n",
              "      box-shadow: 0px 1px 2px rgba(60, 64, 67, 0.3), 0px 1px 3px 1px rgba(60, 64, 67, 0.15);\n",
              "      fill: #174EA6;\n",
              "    }\n",
              "\n",
              "    [theme=dark] .colab-df-convert {\n",
              "      background-color: #3B4455;\n",
              "      fill: #D2E3FC;\n",
              "    }\n",
              "\n",
              "    [theme=dark] .colab-df-convert:hover {\n",
              "      background-color: #434B5C;\n",
              "      box-shadow: 0px 1px 3px 1px rgba(0, 0, 0, 0.15);\n",
              "      filter: drop-shadow(0px 1px 2px rgba(0, 0, 0, 0.3));\n",
              "      fill: #FFFFFF;\n",
              "    }\n",
              "  </style>\n",
              "\n",
              "      <script>\n",
              "        const buttonEl =\n",
              "          document.querySelector('#df-8935559f-bc20-4b1c-a21d-d8aca6799ebe button.colab-df-convert');\n",
              "        buttonEl.style.display =\n",
              "          google.colab.kernel.accessAllowed ? 'block' : 'none';\n",
              "\n",
              "        async function convertToInteractive(key) {\n",
              "          const element = document.querySelector('#df-8935559f-bc20-4b1c-a21d-d8aca6799ebe');\n",
              "          const dataTable =\n",
              "            await google.colab.kernel.invokeFunction('convertToInteractive',\n",
              "                                                     [key], {});\n",
              "          if (!dataTable) return;\n",
              "\n",
              "          const docLinkHtml = 'Like what you see? Visit the ' +\n",
              "            '<a target=\"_blank\" href=https://colab.research.google.com/notebooks/data_table.ipynb>data table notebook</a>'\n",
              "            + ' to learn more about interactive tables.';\n",
              "          element.innerHTML = '';\n",
              "          dataTable['output_type'] = 'display_data';\n",
              "          await google.colab.output.renderOutput(dataTable, element);\n",
              "          const docLink = document.createElement('div');\n",
              "          docLink.innerHTML = docLinkHtml;\n",
              "          element.appendChild(docLink);\n",
              "        }\n",
              "      </script>\n",
              "    </div>\n",
              "  </div>\n",
              "  "
            ]
          },
          "metadata": {},
          "execution_count": 2
        }
      ]
    },
    {
      "cell_type": "code",
      "source": [
        "dogs.columns"
      ],
      "metadata": {
        "colab": {
          "base_uri": "https://localhost:8080/"
        },
        "id": "1NQ2CQhWBZlq",
        "outputId": "91a38912-b149-412d-9ee3-eeaec9600275"
      },
      "execution_count": 3,
      "outputs": [
        {
          "output_type": "execute_result",
          "data": {
            "text/plain": [
              "Index(['ID', 'name', 'age', 'sex', 'breed', 'date_found', 'adoptable_from',\n",
              "       'posted', 'color', 'coat', 'size', 'neutered', 'housebroken',\n",
              "       'likes_people', 'likes_children', 'get_along_males',\n",
              "       'get_along_females', 'get_along_cats', 'keep_in'],\n",
              "      dtype='object')"
            ]
          },
          "metadata": {},
          "execution_count": 3
        }
      ]
    },
    {
      "cell_type": "code",
      "source": [
        "dogs.shape"
      ],
      "metadata": {
        "colab": {
          "base_uri": "https://localhost:8080/"
        },
        "id": "xhjdGi0KBdTU",
        "outputId": "246e62c8-db35-42a5-e85e-84ad12ebef30"
      },
      "execution_count": 4,
      "outputs": [
        {
          "output_type": "execute_result",
          "data": {
            "text/plain": [
              "(2937, 19)"
            ]
          },
          "metadata": {},
          "execution_count": 4
        }
      ]
    },
    {
      "cell_type": "markdown",
      "source": [
        "# **Renaming categorie**s\n",
        "\n",
        "\n",
        "---\n",
        "\n",
        "We will work with a copy of the dogs dataframe. Bacause we can't undo once it is changed."
      ],
      "metadata": {
        "id": "8Sd52eScuBys"
      }
    },
    {
      "cell_type": "code",
      "source": [
        "dogs2=dogs.copy()"
      ],
      "metadata": {
        "id": "kYll_PyXm3Dv"
      },
      "execution_count": 5,
      "outputs": []
    },
    {
      "cell_type": "code",
      "source": [
        "print(dogs2['likes_children'].value_counts(dropna=False))"
      ],
      "metadata": {
        "colab": {
          "base_uri": "https://localhost:8080/"
        },
        "id": "6d97X0hFBpXo",
        "outputId": "8a09eb97-e57d-4af4-bc7d-993e582ecda0"
      },
      "execution_count": 6,
      "outputs": [
        {
          "output_type": "stream",
          "name": "stdout",
          "text": [
            "NaN       1718\n",
            "maybe      596\n",
            "Maybe?     357\n",
            "yes        219\n",
            "no          47\n",
            "Name: likes_children, dtype: int64\n"
          ]
        }
      ]
    },
    {
      "cell_type": "code",
      "source": [
        "print(dogs2['likes_children'].dtype)"
      ],
      "metadata": {
        "colab": {
          "base_uri": "https://localhost:8080/"
        },
        "id": "ANxk-lq4nKsP",
        "outputId": "679a7fc6-fe64-44ce-cd50-477edf54bbe5"
      },
      "execution_count": 7,
      "outputs": [
        {
          "output_type": "stream",
          "name": "stdout",
          "text": [
            "object\n"
          ]
        }
      ]
    },
    {
      "cell_type": "markdown",
      "source": [
        "### **Update NaN values to 'no'**\n",
        "We are filling the blank rows of the column with 'no'. So, it will merge with the existing 'no'."
      ],
      "metadata": {
        "id": "WUbNm1TLn-V5"
      }
    },
    {
      "cell_type": "code",
      "source": [
        "dogs2.loc[dogs2['likes_children'].isna(),'likes_children']='no'\n",
        "print(dogs2['likes_children'].value_counts(dropna=False))"
      ],
      "metadata": {
        "colab": {
          "base_uri": "https://localhost:8080/"
        },
        "id": "o6cBQ3GRn3jO",
        "outputId": "4eed8a89-656f-4392-925f-23eee4d3b128"
      },
      "execution_count": 8,
      "outputs": [
        {
          "output_type": "stream",
          "name": "stdout",
          "text": [
            "no        1765\n",
            "maybe      596\n",
            "Maybe?     357\n",
            "yes        219\n",
            "Name: likes_children, dtype: int64\n"
          ]
        }
      ]
    },
    {
      "cell_type": "markdown",
      "source": [
        "### **Set \"maybe\" to be \"no\"**"
      ],
      "metadata": {
        "id": "Er7EG5-Csmqv"
      }
    },
    {
      "cell_type": "code",
      "source": [
        "dogs2.loc[dogs2['likes_children']=='maybe','likes_children']='no'\n",
        "print(dogs2['likes_children'].value_counts(dropna=False))"
      ],
      "metadata": {
        "colab": {
          "base_uri": "https://localhost:8080/"
        },
        "id": "nMGz6M7xswzS",
        "outputId": "4504f081-d7a6-46d7-ff68-1c9b1b133b10"
      },
      "execution_count": 9,
      "outputs": [
        {
          "output_type": "stream",
          "name": "stdout",
          "text": [
            "no        2361\n",
            "Maybe?     357\n",
            "yes        219\n",
            "Name: likes_children, dtype: int64\n"
          ]
        }
      ]
    },
    {
      "cell_type": "markdown",
      "source": [
        "### **We can also rename 'Maybe?' to 'maybe' with this above code. But now we will try a different code below.**"
      ],
      "metadata": {
        "id": "HPNoXC5-0DMd"
      }
    },
    {
      "cell_type": "markdown",
      "source": [
        "### **Rename 'Maybe?' to 'maybe'**\n",
        "When we use `cat.category` method, we must need to convert the column into '`category`' from '`object`'. In this method, we need to use a unique name all time. It Cannot collapse two categories into one. As example, If 'maybe' already exist, we can't use it for 2nd time. or we can't set 'maybe' for both 'yes' and 'no'."
      ],
      "metadata": {
        "id": "wQZdVCwruElM"
      }
    },
    {
      "cell_type": "code",
      "source": [
        "my_changes={'Maybe?':'maybe'}\n",
        "dogs2['likes_children']=dogs2['likes_children'].astype('category')    #converting to category from object\n",
        "dogs2['likes_children']=dogs2['likes_children'].cat.rename_categories(my_changes)\n",
        "print(dogs2['likes_children'].value_counts(dropna=False))"
      ],
      "metadata": {
        "colab": {
          "base_uri": "https://localhost:8080/"
        },
        "id": "E5vG2bDwuOoZ",
        "outputId": "d0f6708e-14ba-4bc4-f7b1-0b7a660d3edc"
      },
      "execution_count": 10,
      "outputs": [
        {
          "output_type": "stream",
          "name": "stdout",
          "text": [
            "no       2361\n",
            "maybe     357\n",
            "yes       219\n",
            "Name: likes_children, dtype: int64\n"
          ]
        }
      ]
    },
    {
      "cell_type": "markdown",
      "source": [
        "### **Use a lambda function to convert all categories to uppercase using upper()**"
      ],
      "metadata": {
        "id": "YXmy9WUyxfpD"
      }
    },
    {
      "cell_type": "code",
      "source": [
        "dogs2[\"likes_children\"] =  dogs2[\"likes_children\"].cat.rename_categories(lambda c: c.upper())\n",
        "print(dogs2['likes_children'].value_counts(dropna=False))\n",
        "print(dogs2['likes_children'].dtype)"
      ],
      "metadata": {
        "colab": {
          "base_uri": "https://localhost:8080/"
        },
        "id": "HwIDRWooxfEy",
        "outputId": "61753993-2902-4490-9303-8e2682c0c652"
      },
      "execution_count": 11,
      "outputs": [
        {
          "output_type": "stream",
          "name": "stdout",
          "text": [
            "NO       2361\n",
            "MAYBE     357\n",
            "YES       219\n",
            "Name: likes_children, dtype: int64\n",
            "category\n"
          ]
        }
      ]
    },
    {
      "cell_type": "markdown",
      "source": [
        "### **Print the list of categories**"
      ],
      "metadata": {
        "id": "zhS9a4561Whe"
      }
    },
    {
      "cell_type": "code",
      "source": [
        "print(dogs2['likes_children'].cat.categories)"
      ],
      "metadata": {
        "colab": {
          "base_uri": "https://localhost:8080/"
        },
        "id": "oYK01HNKzWWH",
        "outputId": "3da022ff-51fe-46cb-83f2-670e45bfce0f"
      },
      "execution_count": 12,
      "outputs": [
        {
          "output_type": "stream",
          "name": "stdout",
          "text": [
            "Index(['MAYBE', 'NO', 'YES'], dtype='object')\n"
          ]
        }
      ]
    },
    {
      "cell_type": "markdown",
      "source": [
        "# **Collapsing categories**\n",
        "\n",
        "\n",
        "---\n",
        "In this method, we can set a same name for multiple category at a same time. We don't face the problem of `cat.category` method. \n"
      ],
      "metadata": {
        "id": "jgArsX-NznHH"
      }
    },
    {
      "cell_type": "code",
      "source": [
        "print(dogs2['coat'].value_counts(dropna=False))"
      ],
      "metadata": {
        "colab": {
          "base_uri": "https://localhost:8080/"
        },
        "id": "PTrQcua_CTSj",
        "outputId": "f6e1e06f-2d27-47e5-9fba-ac3063ffc72d"
      },
      "execution_count": 13,
      "outputs": [
        {
          "output_type": "stream",
          "name": "stdout",
          "text": [
            "short          1972\n",
            "medium          562\n",
            "wirehaired      220\n",
            "long            180\n",
            "medium-long       3\n",
            "Name: coat, dtype: int64\n"
          ]
        }
      ]
    },
    {
      "cell_type": "markdown",
      "source": [
        "Update 'wirehaired' and 'medium-long' to 'medium'."
      ],
      "metadata": {
        "id": "zujfdOX819Sc"
      }
    },
    {
      "cell_type": "code",
      "source": [
        "update_coats={'wirehaired':'medium','medium-long':'medium'}\n",
        "dogs2['coat'] = dogs2['coat'].replace(update_coats)\n",
        "print(dogs2['coat'].value_counts())\n",
        "print(dogs2['coat'].dtype)"
      ],
      "metadata": {
        "colab": {
          "base_uri": "https://localhost:8080/"
        },
        "id": "SNTxhs5izpMo",
        "outputId": "ee8c306c-c2f6-4e31-9b2e-ed9b136f4cc9"
      },
      "execution_count": 14,
      "outputs": [
        {
          "output_type": "stream",
          "name": "stdout",
          "text": [
            "short     1972\n",
            "medium     785\n",
            "long       180\n",
            "Name: coat, dtype: int64\n",
            "object\n"
          ]
        }
      ]
    },
    {
      "cell_type": "markdown",
      "source": [
        "# **Reordering categories**\n",
        "\n",
        "\n",
        "---\n",
        "\n"
      ],
      "metadata": {
        "id": "nnMM4q03_4oQ"
      }
    },
    {
      "cell_type": "code",
      "source": [
        "# Print out the current categories of the size variable\n",
        "dogs2['size']=dogs2['size'].astype('category')\n",
        "print(dogs2['size'].cat.categories)"
      ],
      "metadata": {
        "colab": {
          "base_uri": "https://localhost:8080/"
        },
        "id": "UEJj4JlQ_xCE",
        "outputId": "be9c80dd-8d8d-4690-e09b-86302ad555dc"
      },
      "execution_count": 15,
      "outputs": [
        {
          "output_type": "stream",
          "name": "stdout",
          "text": [
            "Index(['large', 'medium', 'small'], dtype='object')\n"
          ]
        }
      ]
    },
    {
      "cell_type": "code",
      "source": [
        "# Reorder the categories, specifying the Series is ordinal, and overwriting the original series\n",
        "dogs2[\"size\"].cat.reorder_categories(\n",
        "  new_categories=[\"small\", \"medium\", \"large\"],\n",
        "  ordered=True)"
      ],
      "metadata": {
        "colab": {
          "base_uri": "https://localhost:8080/"
        },
        "id": "r_ye-ei5AbG6",
        "outputId": "ee97fc6a-0a73-4373-caae-f1b5d6eb04a4"
      },
      "execution_count": 16,
      "outputs": [
        {
          "output_type": "execute_result",
          "data": {
            "text/plain": [
              "0       medium\n",
              "1        large\n",
              "2       medium\n",
              "3       medium\n",
              "4       medium\n",
              "         ...  \n",
              "2932     small\n",
              "2933     small\n",
              "2934    medium\n",
              "2935    medium\n",
              "2936    medium\n",
              "Name: size, Length: 2937, dtype: category\n",
              "Categories (3, object): ['small' < 'medium' < 'large']"
            ]
          },
          "metadata": {},
          "execution_count": 16
        }
      ]
    },
    {
      "cell_type": "code",
      "source": [
        "# How many Male/Female dogs are available of each size?\n",
        "print(dogs2.groupby('size')['sex'].value_counts())"
      ],
      "metadata": {
        "colab": {
          "base_uri": "https://localhost:8080/"
        },
        "id": "32Y6TuoJBKoi",
        "outputId": "802b6776-a57b-4673-e30d-fb7f253668ce"
      },
      "execution_count": 17,
      "outputs": [
        {
          "output_type": "stream",
          "name": "stdout",
          "text": [
            "size    sex    \n",
            "large   male        331\n",
            "        female      188\n",
            "medium  male       1083\n",
            "        female      852\n",
            "         MALE         6\n",
            "         FEMALE       2\n",
            "        Malez         1\n",
            "small   male        256\n",
            "        female      211\n",
            "         MALE         4\n",
            "         FEMALE       3\n",
            "Name: sex, dtype: int64\n"
          ]
        }
      ]
    },
    {
      "cell_type": "code",
      "source": [
        "# Do larger dogs need more room to roam?\n",
        "print(dogs2.groupby('size')['keep_in'].value_counts())"
      ],
      "metadata": {
        "colab": {
          "base_uri": "https://localhost:8080/"
        },
        "id": "ldmThhTuBQUE",
        "outputId": "3a207f74-70e3-4903-b8e8-603685f5de84"
      },
      "execution_count": 18,
      "outputs": [
        {
          "output_type": "stream",
          "name": "stdout",
          "text": [
            "size    keep_in             \n",
            "large   both flat and garden    191\n",
            "        garden                  172\n",
            "        flat                      5\n",
            "medium  both flat and garden    795\n",
            "        garden                  317\n",
            "        flat                     97\n",
            "small   both flat and garden    238\n",
            "        flat                     80\n",
            "        garden                   21\n",
            "Name: keep_in, dtype: int64\n"
          ]
        }
      ]
    },
    {
      "cell_type": "markdown",
      "source": [
        "# **Cleaning variables**\n",
        "\n",
        "\n",
        "---\n",
        "\n",
        "Users of an online entry system used to have the ability to freely type in responses to questions. This is causing issues when trying to analyze the adoptable dogs dataset, dogs. Here is the current frequency table of the \"sex\" column:"
      ],
      "metadata": {
        "id": "6ctv3iZjBgwc"
      }
    },
    {
      "cell_type": "code",
      "source": [
        "print(dogs2[\"sex\"].value_counts(dropna=False))"
      ],
      "metadata": {
        "colab": {
          "base_uri": "https://localhost:8080/"
        },
        "id": "HwKoX00BCrgJ",
        "outputId": "2fc9a25c-1cea-4db1-eda0-deb6aaaaab8e"
      },
      "execution_count": 19,
      "outputs": [
        {
          "output_type": "stream",
          "name": "stdout",
          "text": [
            "male       1670\n",
            "female     1251\n",
            " MALE        10\n",
            " FEMALE       5\n",
            "Malez         1\n",
            "Name: sex, dtype: int64\n"
          ]
        }
      ]
    },
    {
      "cell_type": "markdown",
      "source": [
        "Now that the system only takes responses of \"female\" and \"male\", you want this variable to match the updated system."
      ],
      "metadata": {
        "id": "0tqiF4_KCAOl"
      }
    },
    {
      "cell_type": "code",
      "source": [
        "# Fix the misspelled word\n",
        "replace_map = {\"Malez\": \"male\"}\n",
        "\n",
        "# Update the sex column using the created map\n",
        "dogs2[\"sex\"] = dogs2[\"sex\"].replace(replace_map)\n",
        "print(dogs2[\"sex\"].value_counts())"
      ],
      "metadata": {
        "colab": {
          "base_uri": "https://localhost:8080/"
        },
        "id": "3SuoKOSQB5IR",
        "outputId": "4ce55c33-cc6c-4595-8e7e-2c72f556eefe"
      },
      "execution_count": 20,
      "outputs": [
        {
          "output_type": "stream",
          "name": "stdout",
          "text": [
            "male       1671\n",
            "female     1251\n",
            " MALE        10\n",
            " FEMALE       5\n",
            "Name: sex, dtype: int64\n"
          ]
        }
      ]
    },
    {
      "cell_type": "code",
      "source": [
        "# Strip away leading whitespace\n",
        "dogs2[\"sex\"] = dogs2[\"sex\"].str.strip()\n",
        "print(dogs2[\"sex\"].value_counts())"
      ],
      "metadata": {
        "colab": {
          "base_uri": "https://localhost:8080/"
        },
        "id": "fy7FRQY5Cb9C",
        "outputId": "04b6d609-5adc-4d0e-b75f-6256c020bf19"
      },
      "execution_count": 21,
      "outputs": [
        {
          "output_type": "stream",
          "name": "stdout",
          "text": [
            "male      1671\n",
            "female    1251\n",
            "MALE        10\n",
            "FEMALE       5\n",
            "Name: sex, dtype: int64\n"
          ]
        }
      ]
    },
    {
      "cell_type": "code",
      "source": [
        "# Make all responses lowercase\n",
        "dogs2[\"sex\"] = dogs2[\"sex\"].str.lower()\n",
        "print(dogs2[\"sex\"].value_counts())"
      ],
      "metadata": {
        "colab": {
          "base_uri": "https://localhost:8080/"
        },
        "id": "irAbbEhQCoVw",
        "outputId": "17b2f572-1219-4bbe-ba25-df05abb4a534"
      },
      "execution_count": 22,
      "outputs": [
        {
          "output_type": "stream",
          "name": "stdout",
          "text": [
            "male      1681\n",
            "female    1256\n",
            "Name: sex, dtype: int64\n"
          ]
        }
      ]
    },
    {
      "cell_type": "code",
      "source": [
        "# Convert to a categorical Series\n",
        "dogs2[\"sex\"] = dogs2['sex'].astype('category')\n",
        "print(dogs2['sex'].dtype)"
      ],
      "metadata": {
        "colab": {
          "base_uri": "https://localhost:8080/"
        },
        "id": "V8UxXSDcCxBu",
        "outputId": "d34c2dac-ca2b-4f96-bcb2-613d4cc78f95"
      },
      "execution_count": 23,
      "outputs": [
        {
          "output_type": "stream",
          "name": "stdout",
          "text": [
            "category\n"
          ]
        }
      ]
    },
    {
      "cell_type": "markdown",
      "source": [
        "# **Accessing and filtering data**\n",
        "\n",
        "\n",
        "---\n",
        "\n"
      ],
      "metadata": {
        "id": "lziEF_sbC8PC"
      }
    },
    {
      "cell_type": "code",
      "source": [
        "# Print the category of the coat for ID 23807\n",
        "print(dogs2.loc[dogs2['ID']==23807, \"coat\"])"
      ],
      "metadata": {
        "colab": {
          "base_uri": "https://localhost:8080/"
        },
        "id": "DQfzaWBpC91r",
        "outputId": "d7f1cdc8-fc15-4049-9c15-188553387f4e"
      },
      "execution_count": 24,
      "outputs": [
        {
          "output_type": "stream",
          "name": "stdout",
          "text": [
            "2715    short\n",
            "Name: coat, dtype: object\n"
          ]
        }
      ]
    },
    {
      "cell_type": "code",
      "source": [
        "# Find the count of male and female dogs who have a \"long\" coat\n",
        "print(dogs2.loc[dogs2['coat']=='long', 'sex'].value_counts())"
      ],
      "metadata": {
        "colab": {
          "base_uri": "https://localhost:8080/"
        },
        "id": "p8NQRf50DWEY",
        "outputId": "6fc0ad9f-64fd-4554-8582-a812a03690f0"
      },
      "execution_count": 25,
      "outputs": [
        {
          "output_type": "stream",
          "name": "stdout",
          "text": [
            "male      124\n",
            "female     56\n",
            "Name: sex, dtype: int64\n"
          ]
        }
      ]
    },
    {
      "cell_type": "code",
      "source": [
        "# Print the mean age of dogs with a breed of \"English Cocker Spaniel\"\n",
        "print(dogs2.loc[dogs2[\"breed\"] == \"English Cocker Spaniel\", \"age\"].mean())"
      ],
      "metadata": {
        "colab": {
          "base_uri": "https://localhost:8080/"
        },
        "id": "59B3FvDdD_Js",
        "outputId": "a51a29ed-8df4-4bbd-e049-6fb4d39dc549"
      },
      "execution_count": 26,
      "outputs": [
        {
          "output_type": "stream",
          "name": "stdout",
          "text": [
            "8.186153846153847\n"
          ]
        }
      ]
    },
    {
      "cell_type": "code",
      "source": [
        "# Count the number of dogs that have \"English\" in their breed name\n",
        "print(dogs2[dogs2[\"breed\"].str.contains('English', regex=False)].shape[0])"
      ],
      "metadata": {
        "colab": {
          "base_uri": "https://localhost:8080/"
        },
        "id": "ONnerCO_EG9w",
        "outputId": "a56370db-d265-4947-bfdd-78e96f846485"
      },
      "execution_count": 27,
      "outputs": [
        {
          "output_type": "stream",
          "name": "stdout",
          "text": [
            "35\n"
          ]
        }
      ]
    },
    {
      "cell_type": "markdown",
      "source": [
        "# **Create a label encoding and map**\n",
        "\n",
        "\n",
        "---\n",
        "\n"
      ],
      "metadata": {
        "id": "qajaYVfkd3Xh"
      }
    },
    {
      "cell_type": "code",
      "source": [
        "print(dogs2['color'].value_counts())"
      ],
      "metadata": {
        "colab": {
          "base_uri": "https://localhost:8080/"
        },
        "id": "W1HcXqjVeHdu",
        "outputId": "f3d00600-c6a8-478a-db03-ae17dba38cae"
      },
      "execution_count": 31,
      "outputs": [
        {
          "output_type": "stream",
          "name": "stdout",
          "text": [
            "black              620\n",
            "brown              293\n",
            "black and brown    287\n",
            "yellow-brown       212\n",
            "black and white    190\n",
            "black and tan      155\n",
            "apricot            142\n",
            "white              124\n",
            "brown and white    124\n",
            "sable              118\n",
            "tricolor            99\n",
            "saddle back         91\n",
            "striped             89\n",
            "gray                64\n",
            "yellow              63\n",
            "golden              61\n",
            "red                 53\n",
            "spotty              47\n",
            "gray and white      35\n",
            "gray and black      28\n",
            "wild boar           18\n",
            "red and white       14\n",
            "dotted              10\n",
            "Name: color, dtype: int64\n"
          ]
        }
      ]
    },
    {
      "cell_type": "markdown",
      "source": [
        "### **Below code is automatic process to create codes for individuals category.**"
      ],
      "metadata": {
        "id": "M3x_mQCFhdnS"
      }
    },
    {
      "cell_type": "code",
      "source": [
        "dogs2['color']=dogs2['color'].astype('category')\n",
        "\n",
        "# Create codes and categories objects\n",
        "codes = dogs2['color'].cat.codes\n",
        "categories = dogs2['color']\n",
        "color_map = dict(zip(categories,codes))\n",
        "sorted_keys = sorted(color_map.keys())\n",
        "\n",
        "# Print the color_map dictionary with each key-value pair in a separate line\n",
        "for key in sorted_keys:\n",
        "    print(f'{key}: {color_map[key]}')"
      ],
      "metadata": {
        "colab": {
          "base_uri": "https://localhost:8080/"
        },
        "id": "FatwQ46MfAFz",
        "outputId": "9ebec817-8c42-4247-c1d7-47b821c8ccb6"
      },
      "execution_count": 35,
      "outputs": [
        {
          "output_type": "stream",
          "name": "stdout",
          "text": [
            "apricot: 0\n",
            "black: 1\n",
            "black and brown: 2\n",
            "black and tan: 3\n",
            "black and white: 4\n",
            "brown: 5\n",
            "brown and white: 6\n",
            "dotted: 7\n",
            "golden: 8\n",
            "gray: 9\n",
            "gray and black: 10\n",
            "gray and white: 11\n",
            "red: 12\n",
            "red and white: 13\n",
            "sable: 14\n",
            "saddle back: 15\n",
            "spotty: 16\n",
            "striped: 17\n",
            "tricolor: 18\n",
            "white: 19\n",
            "wild boar: 20\n",
            "yellow: 21\n",
            "yellow-brown: 22\n"
          ]
        }
      ]
    },
    {
      "cell_type": "code",
      "source": [
        "#adding codes in column\n",
        "dogs2['code of color']=codes\n",
        "print(dogs2['code of color'].value_counts())"
      ],
      "metadata": {
        "colab": {
          "base_uri": "https://localhost:8080/"
        },
        "id": "8iEuwbUtlEee",
        "outputId": "11c9fa22-7c85-415b-9deb-80c6ddc9029d"
      },
      "execution_count": 42,
      "outputs": [
        {
          "output_type": "stream",
          "name": "stdout",
          "text": [
            "1     620\n",
            "5     293\n",
            "2     287\n",
            "22    212\n",
            "4     190\n",
            "3     155\n",
            "0     142\n",
            "19    124\n",
            "6     124\n",
            "14    118\n",
            "18     99\n",
            "15     91\n",
            "17     89\n",
            "9      64\n",
            "21     63\n",
            "8      61\n",
            "12     53\n",
            "16     47\n",
            "11     35\n",
            "10     28\n",
            "20     18\n",
            "13     14\n",
            "7      10\n",
            "Name: code of color, dtype: int64\n"
          ]
        }
      ]
    },
    {
      "cell_type": "markdown",
      "source": [
        "### **Now, How to define code manually for each category?**"
      ],
      "metadata": {
        "id": "RtRD4rAGic8y"
      }
    },
    {
      "cell_type": "code",
      "source": [
        "# Define a dictionary to map categories to desired codes\n",
        "colors_map={'apricot':1,'black': 2,'black and brown': 3,'black and tan': 4,\n",
        "            'black and white': 5,'brown': 6,'brown and white': 7,'dotted': 8,\n",
        "            'golden': 9,'gray': 10,'gray and black': 11,'gray and white': 12,\n",
        "            'red': 13,'red and white': 14,'sable': 15,'saddle back': 16,\n",
        "            'spotty': 17,'striped': 18,'tricolor': 19,'white': 20,\n",
        "            'wild boar': 21,'yellow': 22,'yellow-brown': 23}\n",
        "\n",
        "dogs2['color_code']=dogs2['color'].map(colors_map)\n",
        "print(dogs2['color_code'].value_counts())"
      ],
      "metadata": {
        "colab": {
          "base_uri": "https://localhost:8080/"
        },
        "id": "z1or1ksRf6vY",
        "outputId": "ac9a19b2-fe7d-446a-e7dc-24af8b0c8875"
      },
      "execution_count": 41,
      "outputs": [
        {
          "output_type": "stream",
          "name": "stdout",
          "text": [
            "2     620\n",
            "6     293\n",
            "3     287\n",
            "23    212\n",
            "5     190\n",
            "4     155\n",
            "1     142\n",
            "7     124\n",
            "20    124\n",
            "15    118\n",
            "19     99\n",
            "16     91\n",
            "18     89\n",
            "10     64\n",
            "22     63\n",
            "9      61\n",
            "13     53\n",
            "17     47\n",
            "12     35\n",
            "11     28\n",
            "21     18\n",
            "14     14\n",
            "8      10\n",
            "Name: color_code, dtype: int64\n"
          ]
        }
      ]
    },
    {
      "cell_type": "markdown",
      "source": [
        "# **Creating a Boolean encoding**\n",
        "\n",
        "\n",
        "---\n",
        "\n"
      ],
      "metadata": {
        "id": "2peHG68poEEo"
      }
    },
    {
      "cell_type": "code",
      "source": [
        "# Create a Boolean column for the most common color name\n",
        "dogs2['is_red']=np.where(dogs2['color'].str.contains('red'),True,False)\n",
        "print(dogs2['is_red'].value_counts())"
      ],
      "metadata": {
        "colab": {
          "base_uri": "https://localhost:8080/"
        },
        "id": "EGgS5Pv4oIvI",
        "outputId": "68c5f5cd-96d4-494d-b8e2-1bcdbb1f396b"
      },
      "execution_count": 46,
      "outputs": [
        {
          "output_type": "stream",
          "name": "stdout",
          "text": [
            "False    2870\n",
            "True       67\n",
            "Name: is_red, dtype: int64\n"
          ]
        }
      ]
    },
    {
      "cell_type": "markdown",
      "source": [
        "This will show every red word included. like 'red', 'red and white' etc."
      ],
      "metadata": {
        "id": "HxG4HPGDzpbk"
      }
    },
    {
      "cell_type": "code",
      "source": [
        "dogs2['is_black']=np.where(dogs2['color'].str.contains('black'),1,0)    #0=False\n",
        "print(dogs2['is_black'].value_counts())"
      ],
      "metadata": {
        "colab": {
          "base_uri": "https://localhost:8080/"
        },
        "id": "KWLn4MYr1Ff6",
        "outputId": "29aa7e16-3058-4258-d847-8e8bbe7e072a"
      },
      "execution_count": 51,
      "outputs": [
        {
          "output_type": "stream",
          "name": "stdout",
          "text": [
            "0    1657\n",
            "1    1280\n",
            "Name: is_black, dtype: int64\n"
          ]
        }
      ]
    },
    {
      "cell_type": "markdown",
      "source": [
        "### **Find the memory useage.**"
      ],
      "metadata": {
        "id": "EmiQMxUZ0j04"
      }
    },
    {
      "cell_type": "code",
      "source": [
        "print(dogs2['is_red'].nbytes)"
      ],
      "metadata": {
        "colab": {
          "base_uri": "https://localhost:8080/"
        },
        "id": "wmxJQyP60IwK",
        "outputId": "dfd41782-92bf-4d2e-b475-0bef34bb3dcc"
      },
      "execution_count": 47,
      "outputs": [
        {
          "output_type": "stream",
          "name": "stdout",
          "text": [
            "2937\n"
          ]
        }
      ]
    }
  ]
}